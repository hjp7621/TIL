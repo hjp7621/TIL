{
 "cells": [
  {
   "cell_type": "code",
   "execution_count": 17,
   "metadata": {},
   "outputs": [],
   "source": [
    "# step1.프로젝트에 필요한 패키지 불러오기\n",
    "\n",
    "from bs4 import BeautifulSoup as bs\n",
    "\n",
    "import requests\n",
    "\n",
    "\n",
    "# step2. 검색할 키워드 입력\n",
    "\n",
    "query = input('검색할 키워드를 입력하세요: ')\n",
    "\n",
    "\n",
    "# step3. 입력받은 query가 포함된 url 주소(네이버 뉴스 검색 결과 페이지) 저장\n",
    "\n",
    "url = 'https://search.naver.com/search.naver?where=news&sm=tab_jum&query='+'%s'%query\n",
    "\n",
    "\n",
    "# step4. requests 패키지를 이용해 'url'의 html 문서 가져오기\n",
    "\n",
    "response = requests.get(url)\n",
    "\n",
    "html_text = response.text\n",
    "\n",
    "\n"
   ]
  },
  {
   "cell_type": "code",
   "execution_count": 21,
   "metadata": {},
   "outputs": [
    {
     "name": "stdout",
     "output_type": "stream",
     "text": [
      "\"박진영도 저가 매수\"…이달 19% 빠진 JYP 주식 50억원 '줍줍'\n",
      "'하도급 거래법 위반' 혐의 DL주식회사 1심 벌금형\n",
      "[단독]'수강료 77만원' 주식 전문가, 알고보니 문체부 공무원\n",
      "사놓은 주식 '셀프추천' 수익…애널리스트 징역·벌금 15억\n",
      "삼성증권, 2월 한달간 '친구와 주식 대결' 이벤트\n",
      "윤 대통령 \"과감한 주식세제 개혁…금융으로 계급갈등 해결\"\n",
      "10년 묵힌 이 주식…수익률 7,203%\n",
      "윤 대통령 \"ISA 대상·비과세 한도 확대…주식세제 개혁 추진\"\n",
      "서학개미 ‘최애’ 주식은 역시 테슬라…4년 연속 1위\n",
      "GIST, '지스트기술지주 주식회사' GIST 홀딩스 설립\n",
      "https://www.news1.kr/articles/5294294\n",
      "http://www.newsis.com/view/?id=NISX20240118_0002596766&cID=10201&pID=10200\n",
      "https://www.nocutnews.co.kr/news/6080849\n",
      "https://www.yna.co.kr/view/AKR20240118100100004?input=1195m\n",
      "https://www.etoday.co.kr/news/view/2322556\n",
      "https://news.sbs.co.kr/news/endPage.do?news_id=N1007502509&plink=ORI&cooper=NAVER\n",
      "http://www.wowtv.co.kr/NewsCenter/News/Read?articleId=A202401170358&t=NN\n",
      "https://news.jtbc.co.kr/article/article.aspx?news_id=NB12161204\n",
      "https://www.sedaily.com/NewsView/2D44QOD20L\n",
      "https://www.etnews.com/20240118000027\n"
     ]
    },
    {
     "ename": "PermissionError",
     "evalue": "[Errno 13] Permission denied: 'C:/doit1.jpg'",
     "output_type": "error",
     "traceback": [
      "\u001b[1;31m---------------------------------------------------------------------------\u001b[0m",
      "\u001b[1;31mPermissionError\u001b[0m                           Traceback (most recent call last)",
      "Cell \u001b[1;32mIn[21], line 40\u001b[0m\n\u001b[0;32m     38\u001b[0m \u001b[38;5;28;01mfor\u001b[39;00m link \u001b[38;5;129;01min\u001b[39;00m link_thumbnail:          \n\u001b[0;32m     39\u001b[0m     i \u001b[38;5;241m+\u001b[39m\u001b[38;5;241m=\u001b[39m \u001b[38;5;241m1\u001b[39m\n\u001b[1;32m---> 40\u001b[0m     \u001b[43murlretrieve\u001b[49m\u001b[43m(\u001b[49m\u001b[43mlink\u001b[49m\u001b[43m,\u001b[49m\u001b[43m \u001b[49m\u001b[43mpath_folder\u001b[49m\u001b[43m \u001b[49m\u001b[38;5;241;43m+\u001b[39;49m\u001b[43m \u001b[49m\u001b[38;5;124;43mf\u001b[39;49m\u001b[38;5;124;43m'\u001b[39;49m\u001b[38;5;132;43;01m{\u001b[39;49;00m\u001b[43mi\u001b[49m\u001b[38;5;132;43;01m}\u001b[39;49;00m\u001b[38;5;124;43m.jpg\u001b[39;49m\u001b[38;5;124;43m'\u001b[39;49m\u001b[43m)\u001b[49m\n",
      "File \u001b[1;32mc:\\Users\\bluecom004\\anaconda3\\envs\\OpenAI\\Lib\\urllib\\request.py:250\u001b[0m, in \u001b[0;36murlretrieve\u001b[1;34m(url, filename, reporthook, data)\u001b[0m\n\u001b[0;32m    248\u001b[0m \u001b[38;5;66;03m# Handle temporary file setup.\u001b[39;00m\n\u001b[0;32m    249\u001b[0m \u001b[38;5;28;01mif\u001b[39;00m filename:\n\u001b[1;32m--> 250\u001b[0m     tfp \u001b[38;5;241m=\u001b[39m \u001b[38;5;28;43mopen\u001b[39;49m\u001b[43m(\u001b[49m\u001b[43mfilename\u001b[49m\u001b[43m,\u001b[49m\u001b[43m \u001b[49m\u001b[38;5;124;43m'\u001b[39;49m\u001b[38;5;124;43mwb\u001b[39;49m\u001b[38;5;124;43m'\u001b[39;49m\u001b[43m)\u001b[49m\n\u001b[0;32m    251\u001b[0m \u001b[38;5;28;01melse\u001b[39;00m:\n\u001b[0;32m    252\u001b[0m     tfp \u001b[38;5;241m=\u001b[39m tempfile\u001b[38;5;241m.\u001b[39mNamedTemporaryFile(delete\u001b[38;5;241m=\u001b[39m\u001b[38;5;28;01mFalse\u001b[39;00m)\n",
      "\u001b[1;31mPermissionError\u001b[0m: [Errno 13] Permission denied: 'C:/doit1.jpg'"
     ]
    }
   ],
   "source": [
    "# step5. beautifulsoup 패키지로 파싱 후, 'soup' 변수에 저장\n",
    "soup = bs(response.text, 'html.parser')\n",
    "\n",
    "# step6. 뉴스 제목 텍스트 추출\n",
    "news_titles = soup.select(\"a.news_tit\")\n",
    "\n",
    "for i in news_titles:\n",
    "    title = i.get_text()\n",
    "    print(title)\n",
    "\n",
    "# step7. 뉴스 하이퍼링크 추출\n",
    "for i in news_titles:\n",
    "    href = i.attrs['href']\n",
    "    print(href)\n",
    "\n",
    "# step8. 뉴스 썸네일 이미지 추출\n",
    "news_content_div = soup.select(\".news_contents\")\n",
    "\n",
    "news_thumbnail = [thumbnail.select_one(\".thumb\") for thumbnail in news_content_div]\n",
    "\n",
    "link_thumbnail = []\n",
    "\n",
    "for img in news_thumbnail:\n",
    "    if img is not None and 'data-lazysrc' in img.attrs:\n",
    "        link_thumbnail.append(img.attrs['data-lazysrc'])\n",
    "\n",
    "# 이미지 저장할 폴더 생성\n",
    "import os\n",
    "from urllib.request import urlretrieve\n",
    "\n",
    "path_folder = 'C:/doit'\n",
    "\n",
    "if not os.path.isdir(path_folder):\n",
    "    os.mkdir(path_folder)\n",
    "\n",
    "# 이미지 다운로드\n",
    "i = 0\n",
    "for link in link_thumbnail:          \n",
    "    i += 1\n",
    "    urlretrieve(link, path_folder + f'{i}.jpg')"
   ]
  },
  {
   "cell_type": "code",
   "execution_count": 54,
   "metadata": {},
   "outputs": [
    {
     "ename": "FileNotFoundError",
     "evalue": "[Errno 2] No such file or directory: 'downloaded_images\\\\\\n\\n람보르기니 아벤타도르 SVJ LP770-4 로드스터\\n\\n운용리스/정식/무사고/풀PPF/한정판 V12 오픈탑\\n모델 옵션2인승12기통770마력73.4kgmAWD\\n\\n\\n\\n\\n\\nSQDA\\n\\n\\n오토갤러리\\n\\n\\n.jpg'",
     "output_type": "error",
     "traceback": [
      "\u001b[1;31m---------------------------------------------------------------------------\u001b[0m",
      "\u001b[1;31mFileNotFoundError\u001b[0m                         Traceback (most recent call last)",
      "Cell \u001b[1;32mIn[54], line 30\u001b[0m\n\u001b[0;32m     28\u001b[0m img_response \u001b[38;5;241m=\u001b[39m requests\u001b[38;5;241m.\u001b[39mget(img_url, stream\u001b[38;5;241m=\u001b[39m\u001b[38;5;28;01mTrue\u001b[39;00m)\n\u001b[0;32m     29\u001b[0m \u001b[38;5;28;01mif\u001b[39;00m img_response\u001b[38;5;241m.\u001b[39mstatus_code \u001b[38;5;241m==\u001b[39m \u001b[38;5;241m200\u001b[39m:\n\u001b[1;32m---> 30\u001b[0m     \u001b[38;5;28;01mwith\u001b[39;00m \u001b[38;5;28;43mopen\u001b[39;49m\u001b[43m(\u001b[49m\u001b[43mos\u001b[49m\u001b[38;5;241;43m.\u001b[39;49m\u001b[43mpath\u001b[49m\u001b[38;5;241;43m.\u001b[39;49m\u001b[43mjoin\u001b[49m\u001b[43m(\u001b[49m\u001b[38;5;124;43m'\u001b[39;49m\u001b[38;5;124;43mdownloaded_images\u001b[39;49m\u001b[38;5;124;43m'\u001b[39;49m\u001b[43m,\u001b[49m\u001b[43m \u001b[49m\u001b[43mtitle\u001b[49m\u001b[43m \u001b[49m\u001b[38;5;241;43m+\u001b[39;49m\u001b[43m \u001b[49m\u001b[38;5;124;43m'\u001b[39;49m\u001b[38;5;124;43m.jpg\u001b[39;49m\u001b[38;5;124;43m'\u001b[39;49m\u001b[43m)\u001b[49m\u001b[43m,\u001b[49m\u001b[43m \u001b[49m\u001b[38;5;124;43m'\u001b[39;49m\u001b[38;5;124;43mwb\u001b[39;49m\u001b[38;5;124;43m'\u001b[39;49m\u001b[43m)\u001b[49m \u001b[38;5;28;01mas\u001b[39;00m file:\n\u001b[0;32m     31\u001b[0m         \u001b[38;5;28;01mfor\u001b[39;00m chunk \u001b[38;5;129;01min\u001b[39;00m img_response:\n\u001b[0;32m     32\u001b[0m             file\u001b[38;5;241m.\u001b[39mwrite(chunk)\n",
      "File \u001b[1;32mc:\\Users\\bluecom004\\anaconda3\\envs\\OpenAI\\Lib\\site-packages\\IPython\\core\\interactiveshell.py:310\u001b[0m, in \u001b[0;36m_modified_open\u001b[1;34m(file, *args, **kwargs)\u001b[0m\n\u001b[0;32m    303\u001b[0m \u001b[38;5;28;01mif\u001b[39;00m file \u001b[38;5;129;01min\u001b[39;00m {\u001b[38;5;241m0\u001b[39m, \u001b[38;5;241m1\u001b[39m, \u001b[38;5;241m2\u001b[39m}:\n\u001b[0;32m    304\u001b[0m     \u001b[38;5;28;01mraise\u001b[39;00m \u001b[38;5;167;01mValueError\u001b[39;00m(\n\u001b[0;32m    305\u001b[0m         \u001b[38;5;124mf\u001b[39m\u001b[38;5;124m\"\u001b[39m\u001b[38;5;124mIPython won\u001b[39m\u001b[38;5;124m'\u001b[39m\u001b[38;5;124mt let you open fd=\u001b[39m\u001b[38;5;132;01m{\u001b[39;00mfile\u001b[38;5;132;01m}\u001b[39;00m\u001b[38;5;124m by default \u001b[39m\u001b[38;5;124m\"\u001b[39m\n\u001b[0;32m    306\u001b[0m         \u001b[38;5;124m\"\u001b[39m\u001b[38;5;124mas it is likely to crash IPython. If you know what you are doing, \u001b[39m\u001b[38;5;124m\"\u001b[39m\n\u001b[0;32m    307\u001b[0m         \u001b[38;5;124m\"\u001b[39m\u001b[38;5;124myou can use builtins\u001b[39m\u001b[38;5;124m'\u001b[39m\u001b[38;5;124m open.\u001b[39m\u001b[38;5;124m\"\u001b[39m\n\u001b[0;32m    308\u001b[0m     )\n\u001b[1;32m--> 310\u001b[0m \u001b[38;5;28;01mreturn\u001b[39;00m \u001b[43mio_open\u001b[49m\u001b[43m(\u001b[49m\u001b[43mfile\u001b[49m\u001b[43m,\u001b[49m\u001b[43m \u001b[49m\u001b[38;5;241;43m*\u001b[39;49m\u001b[43margs\u001b[49m\u001b[43m,\u001b[49m\u001b[43m \u001b[49m\u001b[38;5;241;43m*\u001b[39;49m\u001b[38;5;241;43m*\u001b[39;49m\u001b[43mkwargs\u001b[49m\u001b[43m)\u001b[49m\n",
      "\u001b[1;31mFileNotFoundError\u001b[0m: [Errno 2] No such file or directory: 'downloaded_images\\\\\\n\\n람보르기니 아벤타도르 SVJ LP770-4 로드스터\\n\\n운용리스/정식/무사고/풀PPF/한정판 V12 오픈탑\\n모델 옵션2인승12기통770마력73.4kgmAWD\\n\\n\\n\\n\\n\\nSQDA\\n\\n\\n오토갤러리\\n\\n\\n.jpg'"
     ]
    }
   ],
   "source": [
    "import requests\n",
    "from bs4 import BeautifulSoup\n",
    "import os\n",
    "from urllib.request import urlretrieve\n",
    "\n",
    "# 웹사이트의 구조에 따라 URL을 조정하세요\n",
    "url = 'https://www.bobaedream.co.kr/cyber/CyberCar.php?sel_m_gubun=ALL'\n",
    "\n",
    "\n",
    "response = requests.get(url)\n",
    "response.raise_for_status()  # 응답 코드가 200이 아닌 경우 오류를 발생시킵니다.\n",
    "soup = BeautifulSoup(response.text, 'html.parser')\n",
    "\n",
    "car_listings = soup.select('#listCont')\n",
    "if not car_listings:\n",
    "    print(\"차량 목록을 찾을 수 없습니다.\")\n",
    "for car in car_listings:\n",
    "    # 차량 정보 추출 (예시)\n",
    "    title = car.select_one('.title').get_text()\n",
    "    price = car.select_one('.price').get_text()\n",
    "\n",
    "    # 이미지 링크 추출 (예시)\n",
    "    img_url = 'https:'+car.select_one('img')['src']\n",
    "\n",
    "\n",
    "    # 이미지 다운로드\n",
    "    if img_url:\n",
    "        img_response = requests.get(img_url, stream=True)\n",
    "        if img_response.status_code == 200:\n",
    "            with open(os.path.join('downloaded_images', title + '.jpg'), 'wb') as file:\n",
    "                for chunk in img_response:\n",
    "                    file.write(chunk)\n",
    "\n",
    "    # 데이터 출력 또는 저장\n",
    "    print(title, price, img_url)\n",
    "\n"
   ]
  },
  {
   "cell_type": "code",
   "execution_count": 32,
   "metadata": {},
   "outputs": [],
   "source": [
    "\n",
    "import requests\n",
    "from bs4 import BeautifulSoup\n",
    "\n",
    "# 벅스뮤직 차트 페이지 URL (예시 URL, 실제 URL에 맞게 변경 필요)\n",
    "url = 'https://music.bugs.co.kr/chart'\n",
    "\n",
    "response = requests.get(url)\n",
    "soup = BeautifulSoup(response.text, 'html.parser')\n",
    "\n",
    "# 음악 차트 목록을 포함하는 HTML 요소의 선택자 (개발자 도구로 확인 필요)\n",
    "chart_listings = soup.select('.chart-listing-selector')\n",
    "\n",
    "for song in chart_listings:\n",
    "    # 각 음악 정보 추출 (예: 제목, 아티스트)\n",
    "    title = song.select_one('.title-selector').get_text()\n",
    "    artist = song.select_one('.artist-selector').get_text()\n",
    "\n",
    "    print(title, artist)"
   ]
  },
  {
   "cell_type": "code",
   "execution_count": null,
   "metadata": {},
   "outputs": [],
   "source": []
  },
  {
   "cell_type": "code",
   "execution_count": null,
   "metadata": {},
   "outputs": [],
   "source": []
  },
  {
   "cell_type": "code",
   "execution_count": null,
   "metadata": {},
   "outputs": [],
   "source": []
  }
 ],
 "metadata": {
  "kernelspec": {
   "display_name": "OpenAI",
   "language": "python",
   "name": "python3"
  },
  "language_info": {
   "codemirror_mode": {
    "name": "ipython",
    "version": 3
   },
   "file_extension": ".py",
   "mimetype": "text/x-python",
   "name": "python",
   "nbconvert_exporter": "python",
   "pygments_lexer": "ipython3",
   "version": "3.12.0"
  }
 },
 "nbformat": 4,
 "nbformat_minor": 2
}
